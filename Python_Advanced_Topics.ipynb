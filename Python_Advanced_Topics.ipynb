{
  "nbformat": 4,
  "nbformat_minor": 0,
  "metadata": {
    "colab": {
      "provenance": [],
      "authorship_tag": "ABX9TyNzA1kWsaNtSAxiVJ26SjQT",
      "include_colab_link": true
    },
    "kernelspec": {
      "name": "python3",
      "display_name": "Python 3"
    },
    "language_info": {
      "name": "python"
    }
  },
  "cells": [
    {
      "cell_type": "markdown",
      "metadata": {
        "id": "view-in-github",
        "colab_type": "text"
      },
      "source": [
        "<a href=\"https://colab.research.google.com/github/sami10644/BERT-Project/blob/main/Python_Advanced_Topics.ipynb\" target=\"_parent\"><img src=\"https://colab.research.google.com/assets/colab-badge.svg\" alt=\"Open In Colab\"/></a>"
      ]
    },
    {
      "cell_type": "markdown",
      "source": [
        "#Exception Handling"
      ],
      "metadata": {
        "id": "KQWIs2I_eMkG"
      }
    },
    {
      "cell_type": "code",
      "source": [
        "num2 = input(\"Enter a number: \")\n",
        "result = 20/ num2\n",
        "print(result)\n",
        "print(\"Done\")\n",
        "#type error poida korbe \n"
      ],
      "metadata": {
        "colab": {
          "base_uri": "https://localhost:8080/"
        },
        "id": "CohyOl_eej7C",
        "outputId": "8462a728-4355-4e79-cab8-7d7f1e0e5d6f"
      },
      "execution_count": null,
      "outputs": [
        {
          "name": "stdout",
          "output_type": "stream",
          "text": [
            "10\n"
          ]
        }
      ]
    },
    {
      "cell_type": "code",
      "source": [
        "num2 = int(input(\"Enter a number: \"))\n",
        "result = 20/ num2\n",
        "print(result)\n",
        "print(\"Done\")\n",
        "#input 0 dao\n",
        "#zero division error dam poyda korbe "
      ],
      "metadata": {
        "id": "8oiJ0-yVej9n"
      },
      "execution_count": null,
      "outputs": []
    },
    {
      "cell_type": "code",
      "source": [
        "a = \"sami\"\n",
        "print(a[5])\n",
        "#indexError poyda korbe\n"
      ],
      "metadata": {
        "id": "f2rrtrjVekAc"
      },
      "execution_count": null,
      "outputs": []
    },
    {
      "cell_type": "code",
      "source": [
        "list = [20,0,30]\n",
        "result = list[0] / list[1]\n",
        "print(result)\n",
        "print(\"Done\")"
      ],
      "metadata": {
        "id": "ffRx5xL6ekC7"
      },
      "execution_count": null,
      "outputs": []
    },
    {
      "cell_type": "code",
      "source": [
        "#haNdling \n",
        "try :\n",
        "  list = [20,0,30]\n",
        "  result = list[0] / list[1]\n",
        "  print(result)\n",
        "  print(\"Done\")\n",
        "except ZeroDivisionError:\n",
        "  print(\"Dividing by 0 not psbl\")\n",
        "print(\"successful\")\n",
        "\n",
        "\n",
        "\n"
      ],
      "metadata": {
        "colab": {
          "base_uri": "https://localhost:8080/"
        },
        "id": "ruEyiRkaekFa",
        "outputId": "ee6e4cab-0c06-407d-afe0-144478cd547e"
      },
      "execution_count": null,
      "outputs": [
        {
          "output_type": "stream",
          "name": "stdout",
          "text": [
            "Dividing by 0 not psbl\n",
            "successful\n"
          ]
        }
      ]
    },
    {
      "cell_type": "code",
      "source": [
        "#another thing :\n",
        "try :\n",
        "  list = [20,0,30]\n",
        "  result = list[0] / list[3]\n",
        "  print(result)\n",
        "  print(\"Done\")\n",
        "except ZeroDivisionError:\n",
        "  print(\"Dividing by 0 not psbl\")\n",
        "except IndexError:\n",
        "  print(\"Index error\")\n",
        "print(\"successful\")"
      ],
      "metadata": {
        "colab": {
          "base_uri": "https://localhost:8080/"
        },
        "id": "lXpXID3TekH4",
        "outputId": "2f6904b4-2c8c-471c-9f00-965429a37683"
      },
      "execution_count": null,
      "outputs": [
        {
          "output_type": "stream",
          "name": "stdout",
          "text": [
            "0.6666666666666666\n",
            "Done\n",
            "successful\n"
          ]
        }
      ]
    },
    {
      "cell_type": "code",
      "source": [
        "##another thing : Exception kaj na korleo jate kisu print hoye sesh hoy ......\n",
        "\n",
        "try :\n",
        "  list = [20,0,30]\n",
        "  result = list[0] / list[3]\n",
        "  print(result)\n",
        "  print(\"Done\")\n",
        "except ZeroDivisionError:\n",
        "  print(\"Dividing by 0 not psbl\")\n",
        "except IndexError:\n",
        "  print(\"Index error\")\n",
        "finally:\n",
        "  print(\"successful,must kaj korbe , exception handle korte paruk ar nai paruk\")\n"
      ],
      "metadata": {
        "colab": {
          "base_uri": "https://localhost:8080/"
        },
        "id": "OoDtuGDAgS8z",
        "outputId": "ebc720da-9059-4f9a-cd3b-743d6c52f314"
      },
      "execution_count": null,
      "outputs": [
        {
          "output_type": "stream",
          "name": "stdout",
          "text": [
            "Index error\n",
            "successful\n"
          ]
        }
      ]
    },
    {
      "cell_type": "code",
      "source": [
        "try:\n",
        "  n = int(input())\n",
        "  m = int(input())\n",
        "  result = n/m\n",
        "  print(result)\n",
        "except ValueError:\n",
        "  print(\"Integer dhuka input e \")\n",
        "except ZeroDivisionError:\n",
        "  print(\"You can not divide a number by 0\")\n",
        "finally:\n",
        "  print(\"Thanks\")\n",
        "#Alternate\n",
        "\n",
        "try:\n",
        "  n = int(input())\n",
        "  m = int(input())\n",
        "  result = n/m\n",
        "  print(result)\n",
        "except (ValueError, ZeroDivisionError):\n",
        "  print(\"Integer dhuka input e ,You can not divide a number by 0 \")\n",
        "\n",
        "finally:\n",
        "  print(\"Thanks\")"
      ],
      "metadata": {
        "colab": {
          "base_uri": "https://localhost:8080/"
        },
        "id": "zOrFvDlygw61",
        "outputId": "ec10747e-562a-46ab-c4f2-88e287de2770"
      },
      "execution_count": null,
      "outputs": [
        {
          "output_type": "stream",
          "name": "stdout",
          "text": [
            "2\n",
            "0\n",
            "You can not divide a number by 0\n",
            "Thanks\n"
          ]
        }
      ]
    },
    {
      "cell_type": "code",
      "source": [
        "def voter(age):\n",
        "  if age< 18:\n",
        "    raise ValueError(\"Invalid Voter\")\n",
        "  return \"You are allowed to vote\"\n",
        "# print(voter(19)) #prothome eta ar 17 diye dekahbo , thn pore try except block anbo\n",
        "# try:\n",
        "#   print(voter(14))\n",
        "# except ValueError as ec:\n",
        "#   print(ec)\n"
      ],
      "metadata": {
        "id": "-rYNyz5GhhvB"
      },
      "execution_count": null,
      "outputs": []
    },
    {
      "cell_type": "markdown",
      "source": [
        "Python also supports the else clause, which should come after every except clause, in the try, and except blocks. Only when the try clause fails to throw an exception the Python interpreter goes on to the else block.\n",
        "\n",
        "Here is an instance of a try clause with an else clause.\n",
        "\n",
        "Code\n",
        "\n",
        "# Python program to show how to use else clause with try and except clauses  \n",
        "  \n",
        "# Defining a function which returns reciprocal of a number  \n",
        "def reciprocal( num1 ):  \n",
        "    try:  \n",
        "        reci = 1 / num1  \n",
        "    except ZeroDivisionError:  \n",
        "        print( \"We cannot divide by zero\" )  \n",
        "    else:  \n",
        "        print ( reci )  \n",
        "# Calling the function and passing values  \n",
        "reciprocal( 4 )  \n",
        "reciprocal( 0 )  \n",
        "Output:\n",
        "\n",
        "0.25\n",
        "We cannot divide by zero"
      ],
      "metadata": {
        "id": "rKvqlABEnTU8"
      }
    },
    {
      "cell_type": "code",
      "source": [
        "class RemoteControl:\n",
        "    def __init__(self):\n",
        "        self.channels = [\"HBO\", \"CN\", \"abc\", \"espo\"]\n",
        "        self.index = -1\n",
        "\n",
        "    def __iter__(self):\n",
        "        return self\n",
        "\n",
        "    def __next__(self):\n",
        "        self.index += 1\n",
        "        if self.index == len(self.channels):\n",
        "            raise StopIteration\n",
        "        return self.channels[self.index]\n",
        "\n",
        "\n",
        "r = RemoteControl()\n",
        "itr = iter(r)\n",
        "print(next(itr))\n",
        "print(next(itr))\n",
        "print(next(itr))\n",
        "print(next(itr))\n",
        "print(next(itr))"
      ],
      "metadata": {
        "id": "SFTpbhK7wojk",
        "outputId": "13fc0d32-fcea-4a9e-afbc-040f6210c762",
        "colab": {
          "base_uri": "https://localhost:8080/",
          "height": 391
        }
      },
      "execution_count": null,
      "outputs": [
        {
          "output_type": "stream",
          "name": "stdout",
          "text": [
            "HBO\n",
            "CN\n",
            "abc\n",
            "espo\n"
          ]
        },
        {
          "output_type": "error",
          "ename": "StopIteration",
          "evalue": "ignored",
          "traceback": [
            "\u001b[0;31m---------------------------------------------------------------------------\u001b[0m",
            "\u001b[0;31mStopIteration\u001b[0m                             Traceback (most recent call last)",
            "\u001b[0;32m<ipython-input-23-6f9e6c100a36>\u001b[0m in \u001b[0;36m<module>\u001b[0;34m\u001b[0m\n\u001b[1;32m     20\u001b[0m \u001b[0mprint\u001b[0m\u001b[0;34m(\u001b[0m\u001b[0mnext\u001b[0m\u001b[0;34m(\u001b[0m\u001b[0mitr\u001b[0m\u001b[0;34m)\u001b[0m\u001b[0;34m)\u001b[0m\u001b[0;34m\u001b[0m\u001b[0;34m\u001b[0m\u001b[0m\n\u001b[1;32m     21\u001b[0m \u001b[0mprint\u001b[0m\u001b[0;34m(\u001b[0m\u001b[0mnext\u001b[0m\u001b[0;34m(\u001b[0m\u001b[0mitr\u001b[0m\u001b[0;34m)\u001b[0m\u001b[0;34m)\u001b[0m\u001b[0;34m\u001b[0m\u001b[0;34m\u001b[0m\u001b[0m\n\u001b[0;32m---> 22\u001b[0;31m \u001b[0mprint\u001b[0m\u001b[0;34m(\u001b[0m\u001b[0mnext\u001b[0m\u001b[0;34m(\u001b[0m\u001b[0mitr\u001b[0m\u001b[0;34m)\u001b[0m\u001b[0;34m)\u001b[0m\u001b[0;34m\u001b[0m\u001b[0;34m\u001b[0m\u001b[0m\n\u001b[0m",
            "\u001b[0;32m<ipython-input-23-6f9e6c100a36>\u001b[0m in \u001b[0;36m__next__\u001b[0;34m(self)\u001b[0m\n\u001b[1;32m     10\u001b[0m         \u001b[0mself\u001b[0m\u001b[0;34m.\u001b[0m\u001b[0mindex\u001b[0m \u001b[0;34m+=\u001b[0m \u001b[0;36m1\u001b[0m\u001b[0;34m\u001b[0m\u001b[0;34m\u001b[0m\u001b[0m\n\u001b[1;32m     11\u001b[0m         \u001b[0;32mif\u001b[0m \u001b[0mself\u001b[0m\u001b[0;34m.\u001b[0m\u001b[0mindex\u001b[0m \u001b[0;34m==\u001b[0m \u001b[0mlen\u001b[0m\u001b[0;34m(\u001b[0m\u001b[0mself\u001b[0m\u001b[0;34m.\u001b[0m\u001b[0mchannels\u001b[0m\u001b[0;34m)\u001b[0m\u001b[0;34m:\u001b[0m\u001b[0;34m\u001b[0m\u001b[0;34m\u001b[0m\u001b[0m\n\u001b[0;32m---> 12\u001b[0;31m             \u001b[0;32mraise\u001b[0m \u001b[0mStopIteration\u001b[0m\u001b[0;34m\u001b[0m\u001b[0;34m\u001b[0m\u001b[0m\n\u001b[0m\u001b[1;32m     13\u001b[0m         \u001b[0;32mreturn\u001b[0m \u001b[0mself\u001b[0m\u001b[0;34m.\u001b[0m\u001b[0mchannels\u001b[0m\u001b[0;34m[\u001b[0m\u001b[0mself\u001b[0m\u001b[0;34m.\u001b[0m\u001b[0mindex\u001b[0m\u001b[0;34m]\u001b[0m\u001b[0;34m\u001b[0m\u001b[0;34m\u001b[0m\u001b[0m\n\u001b[1;32m     14\u001b[0m \u001b[0;34m\u001b[0m\u001b[0m\n",
            "\u001b[0;31mStopIteration\u001b[0m: "
          ]
        }
      ]
    },
    {
      "cell_type": "markdown",
      "source": [
        "#Lambda function"
      ],
      "metadata": {
        "id": "wPD0lktUD--3"
      }
    },
    {
      "cell_type": "code",
      "source": [
        "def calculate(a,b):\n",
        "  return a*a+2*a*b+b*b\n",
        "print(calculate(2,3)) #named function (more powerful than anonymous function)"
      ],
      "metadata": {
        "colab": {
          "base_uri": "https://localhost:8080/"
        },
        "id": "vhE1lZKVD_Bz",
        "outputId": "43423256-b2cb-441c-9563-417546282dcc"
      },
      "execution_count": null,
      "outputs": [
        {
          "output_type": "stream",
          "name": "stdout",
          "text": [
            "25\n"
          ]
        }
      ]
    },
    {
      "cell_type": "code",
      "source": [
        "print((lambda a,b:a*a+2*a*b+b*b)(2,3))"
      ],
      "metadata": {
        "colab": {
          "base_uri": "https://localhost:8080/"
        },
        "id": "vkrDz9AxENIa",
        "outputId": "6384a204-fdf4-4e11-acd4-2d4c1c4673cb"
      },
      "execution_count": null,
      "outputs": [
        {
          "output_type": "stream",
          "name": "stdout",
          "text": [
            "25\n"
          ]
        }
      ]
    },
    {
      "cell_type": "code",
      "source": [
        "a = (lambda a,b:a*a+2*a*b+b*b)(2,3)\n",
        "a"
      ],
      "metadata": {
        "colab": {
          "base_uri": "https://localhost:8080/"
        },
        "id": "5vjb4sPfD_E-",
        "outputId": "dc8906a8-5c2d-46f2-a106-287702552970"
      },
      "execution_count": null,
      "outputs": [
        {
          "output_type": "execute_result",
          "data": {
            "text/plain": [
              "25"
            ]
          },
          "metadata": {},
          "execution_count": 4
        }
      ]
    },
    {
      "cell_type": "code",
      "source": [
        "a = (lambda x:x+x )(2)\n",
        "print(a)"
      ],
      "metadata": {
        "colab": {
          "base_uri": "https://localhost:8080/"
        },
        "id": "7fzz-JmtD_Hy",
        "outputId": "cf890153-bc67-4d53-da6f-385133025a43"
      },
      "execution_count": null,
      "outputs": [
        {
          "output_type": "stream",
          "name": "stdout",
          "text": [
            "4\n"
          ]
        }
      ]
    },
    {
      "cell_type": "markdown",
      "source": [
        "#filter function"
      ],
      "metadata": {
        "id": "M6JlCi2YD_Ks"
      }
    },
    {
      "cell_type": "code",
      "source": [
        "def square(x):\n",
        "  return x*x\n",
        "num = [1,2,3,4,5]\n",
        "result = list(map(square,num)) #iterable object niye kaj kore\n",
        "print(result)"
      ],
      "metadata": {
        "colab": {
          "base_uri": "https://localhost:8080/"
        },
        "id": "TY5XKdVrD_Nj",
        "outputId": "28f10bc6-1631-4cf9-89ae-0378bd733432"
      },
      "execution_count": null,
      "outputs": [
        {
          "output_type": "stream",
          "name": "stdout",
          "text": [
            "[1, 4, 9, 16, 25]\n"
          ]
        }
      ]
    },
    {
      "cell_type": "markdown",
      "source": [
        "#map"
      ],
      "metadata": {
        "id": "eWky39SVFf9L"
      }
    },
    {
      "cell_type": "code",
      "source": [
        "num = [1,2,3,4,5]\n",
        "result = list(filter(lambda x: x%2 == 0,num))\n",
        "print(result)"
      ],
      "metadata": {
        "colab": {
          "base_uri": "https://localhost:8080/"
        },
        "id": "O9alfGemFlZi",
        "outputId": "51aad65a-dfaa-4af4-bdf9-564ab083d310"
      },
      "execution_count": null,
      "outputs": [
        {
          "output_type": "stream",
          "name": "stdout",
          "text": [
            "[2, 4]\n"
          ]
        }
      ]
    },
    {
      "cell_type": "markdown",
      "source": [
        "#File "
      ],
      "metadata": {
        "id": "2hj2CU2TE4eJ"
      }
    },
    {
      "cell_type": "code",
      "source": [
        "# Open a file in write mode\n",
        "file = open(\"myfile.txt\", \"w\")\n",
        "\n",
        "# Write some data to the file\n",
        "file.write(\"Hello, world!\\n\")\n",
        "file.write(\"This is a test.\\n\")\n",
        "\n",
        "# Close the file\n",
        "file.close()\n",
        "\n",
        "# Open the file in read mode\n",
        "file = open(\"myfile.txt\", \"r\")\n",
        "\n",
        "# Read the entire contents of the file\n",
        "contents = file.read()\n",
        "print(contents)\n",
        "\n",
        "# Close the file\n",
        "file.close()\n",
        "\n",
        "# Open the file in read mode\n",
        "file = open(\"myfile.txt\", \"r\")\n",
        "\n",
        "# Read the file line by line\n",
        "line = file.readline()\n",
        "while line:\n",
        "    print(line)\n",
        "    line = file.readline()\n",
        "\n",
        "# Close the file\n",
        "file.close()\n",
        "\n",
        "# Open the file in read mode\n",
        "file = open(\"myfile.txt\", \"r\")\n",
        "\n",
        "# Read all the lines of the file at once\n",
        "lines = file.readlines()\n",
        "for line in lines:\n",
        "    print(line)\n",
        "\n",
        "# Close the file\n",
        "file.close()\n",
        "\n",
        "# Open the file in append mode\n",
        "file = open(\"myfile.txt\", \"a\")\n",
        "\n",
        "# Append some data to the file\n",
        "file.write(\"More data.\\n\")\n",
        "\n",
        "# Close the file\n",
        "file.close()\n",
        "\n",
        "# Open the file in read mode\n",
        "file = open(\"myfile.txt\", \"r\")\n",
        "\n",
        "# Read the entire contents of the file again\n",
        "contents = file.read()\n",
        "print(contents)\n",
        "\n",
        "# Close the file\n",
        "file.close()\n"
      ],
      "metadata": {
        "id": "jB8LtsG3FEtv"
      },
      "execution_count": null,
      "outputs": []
    },
    {
      "cell_type": "code",
      "source": [
        "v =3,5,67"
      ],
      "metadata": {
        "id": "RvxVOKElma3Q"
      },
      "execution_count": null,
      "outputs": []
    },
    {
      "cell_type": "markdown",
      "source": [
        "**Args and **KWARGS"
      ],
      "metadata": {
        "id": "uBJiVHgnFFpv"
      }
    },
    {
      "cell_type": "markdown",
      "source": [
        "In Python, the special syntax *args and **kwargs allow a function to accept a variable number of arguments.\n",
        "\n",
        "*args is used to pass a variable number of non-keyworded arguments to a function. The asterisk (*) before args means that any number of positional arguments can be passed to the function, and they will be collected into a tuple. Here's an example:"
      ],
      "metadata": {
        "id": "e0K3ShgKFEwL"
      }
    },
    {
      "cell_type": "code",
      "source": [
        "def my_func(*args):\n",
        "    for arg in args:\n",
        "        print(arg)\n",
        "    print(type(args))\n",
        "\n",
        "my_func(1, 2, 3) # Output: 1\\n2\\n3"
      ],
      "metadata": {
        "colab": {
          "base_uri": "https://localhost:8080/"
        },
        "id": "Us52j1eQFEyu",
        "outputId": "1a9d86c8-6730-4b5a-f2a8-e4675daacecc"
      },
      "execution_count": null,
      "outputs": [
        {
          "output_type": "stream",
          "name": "stdout",
          "text": [
            "[1, 2, 3]\n",
            "<class 'tuple'>\n"
          ]
        }
      ]
    },
    {
      "cell_type": "markdown",
      "source": [
        "In this example, the my_func function accepts any number of positional arguments and prints them one by one.\n",
        "\n",
        "**kwargs is used to pass a variable number of keyword arguments to a function. The double asterisk (**) before kwargs means that any number of keyword arguments can be passed to the function, and they will be collected into a dictionary. Here's an example:"
      ],
      "metadata": {
        "id": "Ur-LlaKbFE1a"
      }
    },
    {
      "cell_type": "code",
      "source": [
        "def my_func(**kwargs):\n",
        "    print(kwargs)\n",
        "    for key, value in kwargs.items():\n",
        "        print(f\"{key}: {value}\")\n",
        "\n",
        "my_func(name=\"John\", age=30) # Output: name: John\\nage: 30\n"
      ],
      "metadata": {
        "id": "wZuKaVBPJLhN",
        "colab": {
          "base_uri": "https://localhost:8080/"
        },
        "outputId": "f0ad6bfb-39b6-43e9-e74a-3c8946b0acaf"
      },
      "execution_count": null,
      "outputs": [
        {
          "output_type": "stream",
          "name": "stdout",
          "text": [
            "{'name': 'John', 'age': 30}\n",
            "name: John\n",
            "age: 30\n"
          ]
        }
      ]
    },
    {
      "cell_type": "markdown",
      "source": [
        "In this example, the my_func function accepts any number of keyword arguments and prints them one by one.\n",
        "\n",
        "The * and ** operators can also be used to unpack arguments from a list or a dictionary. Here's an example:"
      ],
      "metadata": {
        "id": "6RhC45ZoJLkA"
      }
    },
    {
      "cell_type": "markdown",
      "source": [
        "# decorators"
      ],
      "metadata": {
        "id": "kun34h2HJLml"
      }
    },
    {
      "cell_type": "markdown",
      "source": [
        "Functions as objects: In Python, functions are first-class objects, which means that they can be assigned to variables, passed as arguments to other functions, and returned as values from functions."
      ],
      "metadata": {
        "id": "_HkAv6CbRV9J"
      }
    },
    {
      "cell_type": "code",
      "source": [
        "def add(a, b):\n",
        "    return a + b\n",
        "\n",
        "print(add(2, 3)) # Output: 5\n",
        "\n",
        "# Assigning a function to a variable\n",
        "sum = add\n",
        "print(sum(2, 3)) # Output: 5\n",
        "\n",
        "# Passing a function as an argument to another function\n",
        "def apply(func, x, y):\n",
        "    return func(x, y)\n",
        "\n",
        "result = apply(add, 2, 3)\n",
        "print(result) # Output: 5\n"
      ],
      "metadata": {
        "id": "crr4Lr8QRV_5"
      },
      "execution_count": null,
      "outputs": []
    },
    {
      "cell_type": "markdown",
      "source": [
        "Decorators as functions that modify other functions: A decorator is a function that takes another function as input and returns a new function that modifies the behavior of the input function."
      ],
      "metadata": {
        "id": "hE_JfeqeRWCh"
      }
    },
    {
      "cell_type": "code",
      "source": [
        "def double(func):\n",
        "    def wrapper(*args, **kwargs):\n",
        "        result = func(*args, **kwargs)\n",
        "        return result * 2\n",
        "    return wrapper\n",
        "\n",
        "@double\n",
        "def add(a, b):\n",
        "    return a + b\n",
        "\n",
        "print(add(2, 3)) # Output: 10\n"
      ],
      "metadata": {
        "id": "aSVWyROWRWFJ"
      },
      "execution_count": null,
      "outputs": []
    },
    {
      "cell_type": "markdown",
      "source": [
        "In the example above, the double function is a decorator that takes another function (add) as input and returns a new function (wrapper) that doubles the output of the input function.\n",
        "\n",
        "Syntax for applying a decorator: In Python, a decorator can be applied to a function using the @decorator_name syntax."
      ],
      "metadata": {
        "id": "3o2nUlFLRWHx"
      }
    },
    {
      "cell_type": "code",
      "source": [
        "def double(func):\n",
        "    def wrapper(*args, **kwargs):\n",
        "        result = func(*args, **kwargs)\n",
        "        return result * 2\n",
        "    return wrapper\n",
        "\n",
        "@double\n",
        "def add(a, b):\n",
        "    return a + b\n",
        "\n",
        "print(add(2, 3)) # Output: 10\n"
      ],
      "metadata": {
        "id": "Fe13JPoaRWKf"
      },
      "execution_count": null,
      "outputs": []
    },
    {
      "cell_type": "markdown",
      "source": [
        "In the example above, the @double syntax applies the double decorator to the add function.\n",
        "\n",
        "Chaining multiple decorators: Multiple decorators can be chained together by applying them in sequence using the @decorator1 @decorator2 syntax."
      ],
      "metadata": {
        "id": "LGCy8dBtRWNY"
      }
    },
    {
      "cell_type": "code",
      "source": [
        "def double(func):\n",
        "    def wrapper(*args, **kwargs):\n",
        "        result = func(*args, **kwargs)\n",
        "        return result * 2\n",
        "    return wrapper\n",
        "\n",
        "def triple(func):\n",
        "    def wrapper(*args, **kwargs):\n",
        "        result = func(*args, **kwargs)\n",
        "        return result * 3\n",
        "    return wrapper\n",
        "\n",
        "@triple\n",
        "@double\n",
        "def add(a, b):\n",
        "    return a + b\n",
        "\n",
        "print(add(2, 3)) # Output: 30\n"
      ],
      "metadata": {
        "id": "KPX-74YTRiCY"
      },
      "execution_count": null,
      "outputs": []
    },
    {
      "cell_type": "markdown",
      "source": [
        "In the example above, the add function is first modified by the double decorator, and then modified again by the triple decorator."
      ],
      "metadata": {
        "id": "Z_dXZOaHRiFP"
      }
    },
    {
      "cell_type": "markdown",
      "source": [
        "Decorators can take arguments: A decorator can take arguments by defining a function that returns the decorator function. Here's an example:"
      ],
      "metadata": {
        "id": "0vMiCWkgRiIQ"
      }
    },
    {
      "cell_type": "code",
      "source": [
        "def repeat(num):\n",
        "    def decorator(func):\n",
        "        def wrapper(*args, **kwargs):\n",
        "            for i in range(num):\n",
        "                result = func(*args, **kwargs)\n",
        "            return result\n",
        "        return wrapper\n",
        "    return decorator\n",
        "\n",
        "@repeat(num=3)\n",
        "def greet(name):\n",
        "    print(f\"Hello, {name}!\")\n",
        "\n",
        "greet(\"John\")\n"
      ],
      "metadata": {
        "id": "vRHNi77pRiLK"
      },
      "execution_count": null,
      "outputs": []
    },
    {
      "cell_type": "markdown",
      "source": [
        "In the example above, the repeat function is a decorator factory that takes an argument num and returns a decorator function. The decorator function wrapper is called num times to repeat the execution of the decorated function.\n",
        "\n",
        "Decorators can be applied to classes and methods: A decorator can also be applied to a class or a method of a class. Here's an example:"
      ],
      "metadata": {
        "id": "UjHk2OMIRpBV"
      }
    },
    {
      "cell_type": "code",
      "source": [
        "def uppercase(func):\n",
        "    def wrapper(self):\n",
        "        result = func(self)\n",
        "        return result.upper()\n",
        "    return wrapper\n",
        "\n",
        "class Greeter:\n",
        "    def __init__(self, name):\n",
        "        self.name = name\n",
        "\n",
        "    @uppercase\n",
        "    def greet(self):\n",
        "        return f\"Hello, {self.name}!\"\n",
        "\n",
        "g = Greeter(\"John\")\n",
        "print(g.greet()) # Output: HELLO, JOHN!\n"
      ],
      "metadata": {
        "id": "432liKskRpDq"
      },
      "execution_count": null,
      "outputs": []
    },
    {
      "cell_type": "markdown",
      "source": [
        "In the example above, the uppercase decorator is applied to the greet method of the Greeter class to convert the output to uppercase.\n",
        "\n",
        "Decorators preserve metadata: When a decorator is applied to a function, the metadata of the original function (such as its name, docstring, and annotations) is preserved in the decorator function. Here's an example:"
      ],
      "metadata": {
        "id": "sjEKyCvpRpGJ"
      }
    },
    {
      "cell_type": "code",
      "source": [
        "def my_decorator(func):\n",
        "    def wrapper(*args, **kwargs):\n",
        "        \"\"\"This is a wrapper function.\"\"\"\n",
        "        return func(*args, **kwargs)\n",
        "    return wrapper\n",
        "\n",
        "@my_decorator\n",
        "def add(a: int, b: int) -> int:\n",
        "    \"\"\"This is an add function.\"\"\"\n",
        "    return a + b\n",
        "\n",
        "print(add.__name__) # Output: \"wrapper\"\n",
        "print(add.__doc__) # Output: \"This is a wrapper function.\"\n",
        "print(add.__annotations__) # Output: {'a': <class 'int'>, 'b': <class 'int'>, 'return': <class 'int'>}\n"
      ],
      "metadata": {
        "id": "_gh3NSYnRpIr"
      },
      "execution_count": null,
      "outputs": []
    },
    {
      "cell_type": "markdown",
      "source": [
        "In the example above, the my_decorator function preserves the metadata of the add function by copying the __name__, __doc__, and __annotations__ attributes to the wrapper function."
      ],
      "metadata": {
        "id": "tIrmDhLnRpLM"
      }
    },
    {
      "cell_type": "markdown",
      "source": [
        "# threading"
      ],
      "metadata": {
        "id": "xXrOMDNaRpNs"
      }
    },
    {
      "cell_type": "code",
      "source": [
        "import threading\n",
        "\n",
        "def print_numbers():\n",
        "    for i in range(10):\n",
        "        print(i)\n",
        "\n",
        "def print_letters():\n",
        "    for i in range(65, 75):\n",
        "        print(chr(i))\n",
        "\n",
        "t1 = threading.Thread(target=print_numbers)\n",
        "t2 = threading.Thread(target=print_letters)\n",
        "\n",
        "t1.start()\n",
        "t2.start()\n",
        "\n",
        "t1.join()\n",
        "t2.join()\n"
      ],
      "metadata": {
        "id": "mhTuTUL9R0Fq"
      },
      "execution_count": null,
      "outputs": []
    },
    {
      "cell_type": "markdown",
      "source": [
        "In this example, we define two functions: print_numbers() and print_letters(). Each function prints a sequence of numbers or letters to the console.\n",
        "\n",
        "We then create two Thread objects: t1 and t2. We pass the function print_numbers to t1 and print_letters to t2 as the target parameter.\n",
        "\n",
        "We start both threads using the start() method, which causes them to run concurrently. We then use the join() method to wait for both threads to complete before exiting the program.\n",
        "\n",
        "When we run this program, the output will show the numbers and letters interleaved, indicating that both threads are running simultaneously:"
      ],
      "metadata": {
        "id": "zqLpzT-WR0Ic"
      }
    },
    {
      "cell_type": "markdown",
      "source": [
        "0\n",
        "A\n",
        "1\n",
        "2\n",
        "B\n",
        "3\n",
        "C\n",
        "4\n",
        "D\n",
        "5\n",
        "E\n",
        "6\n",
        "F\n",
        "7\n",
        "G\n",
        "8\n",
        "H\n",
        "9\n",
        "I\n",
        "J\n"
      ],
      "metadata": {
        "id": "DlGV3ayyR0K_"
      }
    },
    {
      "cell_type": "markdown",
      "source": [
        "This is a basic example of threading in Python, but there are many other features and concepts related to threading that you can explore, such as locking, synchronization, and thread pools"
      ],
      "metadata": {
        "id": "HXTYpe_yR0Nv"
      }
    },
    {
      "cell_type": "markdown",
      "source": [
        "why threading is necessary in python >? what are the most common practice question regarding threading and whats the answer\n",
        "\n",
        "Threading is necessary in Python because it allows programs to perform multiple tasks simultaneously, which can result in improved performance and better responsiveness. When a program is performing a time-consuming task, such as waiting for I/O operations to complete, it can create a new thread to handle other tasks while the first thread is waiting. This can make the program feel more responsive to the user.\n",
        "\n",
        "Here are some common practice questions regarding threading in Python, along with their answers:\n",
        "\n",
        "What is the difference between a thread and a process?\n",
        "A process is an instance of a program that is running, whereas a thread is a separate path of execution within a process. A process has its own memory space, while threads share the same memory space.\n",
        "What is the Global Interpreter Lock (GIL) and how does it affect threading in Python?\n",
        "The GIL is a mechanism used in the CPython implementation of Python to ensure that only one thread executes Python bytecode at a time. This means that in CPython, threading is not suitable for CPU-bound tasks that require parallel execution, but it can be used for I/O-bound tasks that involve waiting for I/O operations to complete.\n",
        "What are some common thread synchronization primitives in Python?\n",
        "Locks and Semaphores are common thread synchronization primitives in Python. They can be used to ensure that only one thread can access a shared resource at a time, or to limit the number of threads that can access a resource simultaneously.\n",
        "What is a race condition and how can it be prevented in threaded applications?\n",
        "A race condition occurs when two or more threads access a shared resource simultaneously, resulting in unpredictable behavior or data corruption. Race conditions can be prevented by using synchronization primitives such as locks or semaphores to ensure that only one thread can access the shared resource at a time.\n",
        "What are some best practices for writing threaded applications in Python?\n",
        "Some best practices for writing threaded applications in Python include avoiding global variables, minimizing the amount of shared data between threads, using synchronization primitives to protect shared data, and using thread pools to limit the number of active threads. It's also important to test threaded applications thoroughly to ensure that they are reliable and performant."
      ],
      "metadata": {
        "id": "pKJMOYucR0Qw"
      }
    }
  ]
}